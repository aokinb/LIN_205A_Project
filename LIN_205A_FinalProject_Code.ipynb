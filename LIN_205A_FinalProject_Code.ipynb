{
 "cells": [
  {
   "cell_type": "code",
   "execution_count": 1,
   "metadata": {},
   "outputs": [
    {
     "name": "stderr",
     "output_type": "stream",
     "text": [
      "/Users/nicholasaoki/opt/anaconda3/lib/python3.8/site-packages/gensim/similarities/__init__.py:15: UserWarning: The gensim.similarities.levenshtein submodule is disabled, because the optional Levenshtein package <https://pypi.org/project/python-Levenshtein/> is unavailable. Install Levenhstein (e.g. `pip install python-Levenshtein`) to suppress this warning.\n",
      "  warnings.warn(msg)\n"
     ]
    }
   ],
   "source": [
    "# Load all packages and modules\n",
    "import os\n",
    "import glob\n",
    "import re\n",
    "from gensim.models import Word2Vec\n",
    "from gensim.models.phrases import Phraser, Phrases\n",
    "from gensim.models import FastText\n",
    "import pandas as pd\n",
    "import numpy as np"
   ]
  },
  {
   "cell_type": "code",
   "execution_count": 2,
   "metadata": {},
   "outputs": [],
   "source": [
    "# Set directory to the folder with the Democrat transcripts\n",
    "os.chdir(\"/Users/nicholasaoki/Desktop/debate_transcripts/Democrat\")"
   ]
  },
  {
   "cell_type": "code",
   "execution_count": 3,
   "metadata": {},
   "outputs": [
    {
     "name": "stdout",
     "output_type": "stream",
     "text": [
      "2008_1_Obama_Democrat.txt\n",
      "2020_2_Harris_Democrat.txt\n",
      "2020_3_Biden_Democrat.txt\n",
      "1988_3_Dukakis_Democrat.txt\n",
      "2004_4_Kerry_Democrat.txt\n",
      "1992_1_1_Clinton_Democrat.txt\n",
      "1988_2_Bentsen_Democrat.txt\n",
      "2016_1_Clinton_Democrat.txt\n",
      "2004_2_Kerry_Democrat.txt\n",
      "2008_4_Obama_Democrat.txt\n",
      "1976_2_Carter_Democrat.txt\n",
      "2016_4_Clinton_Democrat.txt\n",
      "1976_3_Carter_Democrat.txt\n",
      "2008_2_Biden_Democrat.txt\n",
      "1976_1_Carter_Democrat.txt\n",
      "2012_3_Obama_Democrat.txt\n",
      "1984_2_Ferraro_Democrat.txt\n",
      "1960_4_Kennedy_Democrat.txt\n",
      "1980_2_Carter_Democrat.txt\n",
      "1960_1_Kennedy_Democrat.txt\n",
      "1992_3_1_Clinton_Democrat.txt\n",
      "2004_1_Kerry_Democrat.txt\n",
      "1996_3_Clinton_Democrat.txt\n",
      "1984_3_Mondale_Democrat.txt\n",
      "2012_1_Obama_Democrat.txt\n",
      "2000_1_Gore_Democrat.txt\n",
      "2016_2_Kaine_Democrat.txt\n",
      "1996_2_Gore_Democrat.txt\n",
      "1960_2 Kennedy_Democrat.txt\n",
      "1992_3_2_Clinton_Democrat.txt\n",
      "2000_2_Lieberman_Democrat.txt\n",
      "2000_4_Gore_Democrat.txt\n",
      "1988_1_Dukakis_Democrat.txt\n",
      "1992_2_Gore_Democrat.txt\n",
      "2004_3_Edwards_Democrat.txt\n",
      "1992_1_2_Clinton_Democrat.txt\n",
      "1960_3_Kennedy_Democrat.txt\n",
      "2012_4_Obama_Democrat.txt\n",
      "2000_3_Gore_Democrat.txt\n",
      "1984_1_Mondale_Democrat.txt\n",
      "1996_1_Clinton_Democrat.txt\n",
      "2012_2_Biden_Democrat.txt\n",
      "2008_3_Obama_Democrat.txt\n",
      "2016_3_Clinton_Democrat.txt\n",
      "2020_1_Biden_Democrat.txt\n",
      "1992_4_Clinton_Democrat.txt\n"
     ]
    }
   ],
   "source": [
    "# Empty list where the sentences will be appended\n",
    "all_sentences = []\n",
    "\n",
    "# Loop through each file in the directory\n",
    "for filename in glob.glob('*.txt'):\n",
    "\n",
    "    # Open each file\n",
    "    with open(filename, 'r') as file:\n",
    "        \n",
    "        # Print the filename to keep track of which file is being read\n",
    "        print(filename)\n",
    "\n",
    "        # Read each file\n",
    "        data = file.read()\n",
    "        \n",
    "        # Change the spelling of titles to take out the punctuation marks\n",
    "        data = data.replace(\"Mr.\", \"Mister\")\n",
    "        data = data.replace(\"Mrs.\", \"Missus\")\n",
    "        data = data.replace(\"Ms.\", \"Miss\")\n",
    "\n",
    "        # Take out the final space of each transcript and make everything lowercase\n",
    "        data = data[:-1]\n",
    "        data = data.lower()\n",
    "\n",
    "        # Save all of the punctuation marks to be removed in a single variable\n",
    "        punctuation = ';:\\,$–'\n",
    "\n",
    "        # Remove these punctuation marks\n",
    "        for ele in data:\n",
    "            if ele in punctuation:\n",
    "                data = data.replace(ele, \"\")\n",
    "\n",
    "        # Split the data by periods, question marks, and exclamation marks\n",
    "        words = re.split(\"\\?|\\.|!\", data)\n",
    "\n",
    "        words_no_initial_space = []\n",
    "\n",
    "        # Loop through each of the sentences and remove the initial space\n",
    "        for i in words:\n",
    "\n",
    "            if i[0] == ' ':\n",
    "                j = i[1:]\n",
    "                words_no_initial_space += [j]\n",
    "\n",
    "            else:\n",
    "                words_no_initial_space += [i]\n",
    "\n",
    "        # Split the sentences into words\n",
    "        for k in words_no_initial_space:\n",
    "\n",
    "            split_sentence = k.split(' ')\n",
    "            all_sentences += [split_sentence]"
   ]
  },
  {
   "cell_type": "code",
   "execution_count": 4,
   "metadata": {},
   "outputs": [
    {
     "data": {
      "text/plain": [
       "[['well',\n",
       "  'thank',\n",
       "  'you',\n",
       "  'very',\n",
       "  'much',\n",
       "  'jim',\n",
       "  'and',\n",
       "  'thanks',\n",
       "  'to',\n",
       "  'the',\n",
       "  'commission',\n",
       "  'and',\n",
       "  'the',\n",
       "  'university',\n",
       "  'of',\n",
       "  'mississippi',\n",
       "  'ole',\n",
       "  'miss',\n",
       "  'for',\n",
       "  'hosting',\n",
       "  'us',\n",
       "  'tonight'],\n",
       " ['i',\n",
       "  'can’t',\n",
       "  'think',\n",
       "  'of',\n",
       "  'a',\n",
       "  'more',\n",
       "  'important',\n",
       "  'time',\n",
       "  'for',\n",
       "  'us',\n",
       "  'to',\n",
       "  'talk',\n",
       "  'about',\n",
       "  'the',\n",
       "  'future',\n",
       "  'of',\n",
       "  'the',\n",
       "  'country']]"
      ]
     },
     "execution_count": 4,
     "metadata": {},
     "output_type": "execute_result"
    }
   ],
   "source": [
    "# Print the first two sentences\n",
    "all_sentences[0:2]"
   ]
  },
  {
   "cell_type": "code",
   "execution_count": 5,
   "metadata": {},
   "outputs": [
    {
     "name": "stdout",
     "output_type": "stream",
     "text": [
      "['well', 'thank', 'you', 'very', 'much', 'jim', 'and', 'thanks', 'to', 'the']\n"
     ]
    }
   ],
   "source": [
    "# Empty list where the words will be appended\n",
    "words = []\n",
    "\n",
    "# Loop through each of the sentences and add the words to the list\n",
    "for i in all_sentences:\n",
    "    \n",
    "    for j in i:\n",
    "        words += [j]\n",
    "    \n",
    "# Print the first few words\n",
    "print(words[0:10])"
   ]
  },
  {
   "cell_type": "code",
   "execution_count": 6,
   "metadata": {},
   "outputs": [
    {
     "name": "stdout",
     "output_type": "stream",
     "text": [
      "277871\n",
      "10857\n"
     ]
    }
   ],
   "source": [
    "# Find the number of tokens and types\n",
    "print(len(words))\n",
    "print(len(set(words)))"
   ]
  },
  {
   "cell_type": "code",
   "execution_count": 7,
   "metadata": {},
   "outputs": [],
   "source": [
    "# Run FastText on the Democrat transcripts\n",
    "democrat_model = FastText(all_sentences)"
   ]
  },
  {
   "cell_type": "code",
   "execution_count": 8,
   "metadata": {},
   "outputs": [
    {
     "data": {
      "text/plain": [
       "<bound method NDFrame.head of            term   pleasure    arousal  dominance\n",
       "0     abduction  31.292517  62.698413  39.569161\n",
       "1      abortion  39.682540  61.111111  52.040816\n",
       "2        absurd  48.299320  49.433107  53.628118\n",
       "3     abundance  74.716553  62.471655  65.759637\n",
       "4         abuse  20.408163  77.437642  41.836735\n",
       "...         ...        ...        ...        ...\n",
       "1029      yacht  78.798186  63.605442  69.160998\n",
       "1030     yellow  63.605442  50.226757  62.018141\n",
       "1031      young  78.117914  63.945578  60.090703\n",
       "1032      youth  76.530612  64.285714  57.936508\n",
       "1033       zest  76.984127  63.378685  68.027211\n",
       "\n",
       "[1034 rows x 4 columns]>"
      ]
     },
     "execution_count": 8,
     "metadata": {},
     "output_type": "execute_result"
    }
   ],
   "source": [
    "# Read the csv file containing the Affective Norms for English Words (ANEW) data set\n",
    "df = pd.read_csv('~/Desktop/anew.csv')\n",
    "df.head"
   ]
  },
  {
   "cell_type": "code",
   "execution_count": 9,
   "metadata": {},
   "outputs": [
    {
     "data": {
      "text/plain": [
       "['rape',\n",
       " 'suicide',\n",
       " 'funeral',\n",
       " 'rejected',\n",
       " 'cancer',\n",
       " 'murderer',\n",
       " 'torture',\n",
       " 'suffocate',\n",
       " 'unhappy',\n",
       " 'sad',\n",
       " 'loneliness',\n",
       " 'death',\n",
       " 'slaughter',\n",
       " 'infection',\n",
       " 'poverty',\n",
       " 'betray',\n",
       " 'syphilis',\n",
       " 'terrorist',\n",
       " 'grief',\n",
       " 'failure',\n",
       " 'terrified',\n",
       " 'disaster',\n",
       " 'rabies',\n",
       " 'ulcer',\n",
       " 'tragedy',\n",
       " 'abuse',\n",
       " 'mutilate',\n",
       " 'depressed',\n",
       " 'slave',\n",
       " 'pollute',\n",
       " 'depression',\n",
       " 'gloom',\n",
       " 'killer',\n",
       " 'sick',\n",
       " 'hurt',\n",
       " 'nightmare',\n",
       " 'drown',\n",
       " 'morgue',\n",
       " 'misery',\n",
       " 'terrible',\n",
       " 'disloyal',\n",
       " 'dead',\n",
       " 'distressed',\n",
       " 'jail',\n",
       " 'cruel',\n",
       " 'paralysis',\n",
       " 'poison',\n",
       " 'hatred',\n",
       " 'toothache',\n",
       " 'bankrupt']"
      ]
     },
     "execution_count": 9,
     "metadata": {},
     "output_type": "execute_result"
    }
   ],
   "source": [
    "# List the top 50 words with the lowest pleasure scores\n",
    "negative = df.sort_values('pleasure')['term'].head(50)\n",
    "negative = negative.tolist()\n",
    "negative"
   ]
  },
  {
   "cell_type": "code",
   "execution_count": 10,
   "metadata": {},
   "outputs": [
    {
     "data": {
      "text/plain": [
       "['triumphant',\n",
       " 'paradise',\n",
       " 'love',\n",
       " 'loved',\n",
       " 'joy',\n",
       " 'miracle',\n",
       " 'humor',\n",
       " 'laughter',\n",
       " 'champion',\n",
       " 'friendly',\n",
       " 'sweetheart',\n",
       " 'affection',\n",
       " 'mother',\n",
       " 'excellence',\n",
       " 'win',\n",
       " 'comedy',\n",
       " 'fun',\n",
       " 'cash',\n",
       " 'victory',\n",
       " 'orgasm',\n",
       " 'romantic',\n",
       " 'success',\n",
       " 'pleasure',\n",
       " 'treasure',\n",
       " 'free',\n",
       " 'delight',\n",
       " 'kiss',\n",
       " 'joyful',\n",
       " 'baby',\n",
       " 'happy',\n",
       " 'promotion',\n",
       " 'graduate',\n",
       " 'lucky',\n",
       " 'terrific',\n",
       " 'vacation',\n",
       " 'god',\n",
       " 'rainbow',\n",
       " 'music',\n",
       " 'valentine',\n",
       " 'joke',\n",
       " 'cheer',\n",
       " 'thrill',\n",
       " 'sex',\n",
       " 'passion',\n",
       " 'millionaire',\n",
       " 'beach',\n",
       " 'proud',\n",
       " 'sexy',\n",
       " 'rollercoaster',\n",
       " 'diploma']"
      ]
     },
     "execution_count": 10,
     "metadata": {},
     "output_type": "execute_result"
    }
   ],
   "source": [
    "# List the top 50 words with highest pleasure scores\n",
    "positive = df.sort_values('pleasure', ascending=False)['term'].head(50)\n",
    "positive = positive.tolist()\n",
    "positive"
   ]
  },
  {
   "cell_type": "code",
   "execution_count": 11,
   "metadata": {},
   "outputs": [
    {
     "data": {
      "text/plain": [
       "[9, 3, 1, 6, 12]"
      ]
     },
     "execution_count": 11,
     "metadata": {},
     "output_type": "execute_result"
    }
   ],
   "source": [
    "# Empty vector where counts will be stored\n",
    "neg_counts = []\n",
    "\n",
    "# For each word in the \"negative\" list, count the number of times that word appeared in the corpus\n",
    "for neg_word in negative:\n",
    "    count = words.count(neg_word)\n",
    "    neg_counts.append(count)\n",
    "\n",
    "# Print the first few count values\n",
    "neg_counts[0:5]"
   ]
  },
  {
   "cell_type": "code",
   "execution_count": 12,
   "metadata": {},
   "outputs": [
    {
     "data": {
      "text/plain": [
       "[0, 0, 33, 7, 0]"
      ]
     },
     "execution_count": 12,
     "metadata": {},
     "output_type": "execute_result"
    }
   ],
   "source": [
    "# Empty vector where counts will be stored\n",
    "pos_counts = []\n",
    "\n",
    "# For each word in the \"positive\" list, count the number of times that word appeared in the corpus\n",
    "for pos_word in positive:\n",
    "    count = words.count(pos_word)\n",
    "    pos_counts.append(count)\n",
    "\n",
    "# Print the first few count values\n",
    "pos_counts[0:5]"
   ]
  },
  {
   "cell_type": "code",
   "execution_count": 13,
   "metadata": {},
   "outputs": [
    {
     "data": {
      "text/html": [
       "<div>\n",
       "<style scoped>\n",
       "    .dataframe tbody tr th:only-of-type {\n",
       "        vertical-align: middle;\n",
       "    }\n",
       "\n",
       "    .dataframe tbody tr th {\n",
       "        vertical-align: top;\n",
       "    }\n",
       "\n",
       "    .dataframe thead th {\n",
       "        text-align: right;\n",
       "    }\n",
       "</style>\n",
       "<table border=\"1\" class=\"dataframe\">\n",
       "  <thead>\n",
       "    <tr style=\"text-align: right;\">\n",
       "      <th></th>\n",
       "      <th>word</th>\n",
       "      <th>count</th>\n",
       "    </tr>\n",
       "  </thead>\n",
       "  <tbody>\n",
       "    <tr>\n",
       "      <th>14</th>\n",
       "      <td>poverty</td>\n",
       "      <td>33</td>\n",
       "    </tr>\n",
       "    <tr>\n",
       "      <th>11</th>\n",
       "      <td>death</td>\n",
       "      <td>29</td>\n",
       "    </tr>\n",
       "    <tr>\n",
       "      <th>19</th>\n",
       "      <td>failure</td>\n",
       "      <td>25</td>\n",
       "    </tr>\n",
       "    <tr>\n",
       "      <th>30</th>\n",
       "      <td>depression</td>\n",
       "      <td>24</td>\n",
       "    </tr>\n",
       "    <tr>\n",
       "      <th>17</th>\n",
       "      <td>terrorist</td>\n",
       "      <td>24</td>\n",
       "    </tr>\n",
       "    <tr>\n",
       "      <th>41</th>\n",
       "      <td>dead</td>\n",
       "      <td>23</td>\n",
       "    </tr>\n",
       "    <tr>\n",
       "      <th>49</th>\n",
       "      <td>bankrupt</td>\n",
       "      <td>21</td>\n",
       "    </tr>\n",
       "    <tr>\n",
       "      <th>39</th>\n",
       "      <td>terrible</td>\n",
       "      <td>21</td>\n",
       "    </tr>\n",
       "    <tr>\n",
       "      <th>34</th>\n",
       "      <td>hurt</td>\n",
       "      <td>21</td>\n",
       "    </tr>\n",
       "    <tr>\n",
       "      <th>33</th>\n",
       "      <td>sick</td>\n",
       "      <td>17</td>\n",
       "    </tr>\n",
       "  </tbody>\n",
       "</table>\n",
       "</div>"
      ],
      "text/plain": [
       "          word  count\n",
       "14     poverty     33\n",
       "11       death     29\n",
       "19     failure     25\n",
       "30  depression     24\n",
       "17   terrorist     24\n",
       "41        dead     23\n",
       "49    bankrupt     21\n",
       "39    terrible     21\n",
       "34        hurt     21\n",
       "33        sick     17"
      ]
     },
     "execution_count": 13,
     "metadata": {},
     "output_type": "execute_result"
    }
   ],
   "source": [
    "# Find the most common negative words in the Democrat corpus\n",
    "neg_df = pd.DataFrame(\n",
    "    {'word': negative,\n",
    "     'count': neg_counts})\n",
    "neg_df.sort_values('count', ascending=False).head(10)"
   ]
  },
  {
   "cell_type": "code",
   "execution_count": 14,
   "metadata": {},
   "outputs": [
    {
     "data": {
      "text/html": [
       "<div>\n",
       "<style scoped>\n",
       "    .dataframe tbody tr th:only-of-type {\n",
       "        vertical-align: middle;\n",
       "    }\n",
       "\n",
       "    .dataframe tbody tr th {\n",
       "        vertical-align: top;\n",
       "    }\n",
       "\n",
       "    .dataframe thead th {\n",
       "        text-align: right;\n",
       "    }\n",
       "</style>\n",
       "<table border=\"1\" class=\"dataframe\">\n",
       "  <thead>\n",
       "    <tr style=\"text-align: right;\">\n",
       "      <th></th>\n",
       "      <th>word</th>\n",
       "      <th>count</th>\n",
       "    </tr>\n",
       "  </thead>\n",
       "  <tbody>\n",
       "    <tr>\n",
       "      <th>46</th>\n",
       "      <td>proud</td>\n",
       "      <td>72</td>\n",
       "    </tr>\n",
       "    <tr>\n",
       "      <th>24</th>\n",
       "      <td>free</td>\n",
       "      <td>66</td>\n",
       "    </tr>\n",
       "    <tr>\n",
       "      <th>14</th>\n",
       "      <td>win</td>\n",
       "      <td>36</td>\n",
       "    </tr>\n",
       "    <tr>\n",
       "      <th>2</th>\n",
       "      <td>love</td>\n",
       "      <td>33</td>\n",
       "    </tr>\n",
       "    <tr>\n",
       "      <th>29</th>\n",
       "      <td>happy</td>\n",
       "      <td>29</td>\n",
       "    </tr>\n",
       "    <tr>\n",
       "      <th>35</th>\n",
       "      <td>god</td>\n",
       "      <td>26</td>\n",
       "    </tr>\n",
       "    <tr>\n",
       "      <th>12</th>\n",
       "      <td>mother</td>\n",
       "      <td>26</td>\n",
       "    </tr>\n",
       "    <tr>\n",
       "      <th>21</th>\n",
       "      <td>success</td>\n",
       "      <td>24</td>\n",
       "    </tr>\n",
       "    <tr>\n",
       "      <th>43</th>\n",
       "      <td>passion</td>\n",
       "      <td>11</td>\n",
       "    </tr>\n",
       "    <tr>\n",
       "      <th>28</th>\n",
       "      <td>baby</td>\n",
       "      <td>10</td>\n",
       "    </tr>\n",
       "  </tbody>\n",
       "</table>\n",
       "</div>"
      ],
      "text/plain": [
       "       word  count\n",
       "46    proud     72\n",
       "24     free     66\n",
       "14      win     36\n",
       "2      love     33\n",
       "29    happy     29\n",
       "35      god     26\n",
       "12   mother     26\n",
       "21  success     24\n",
       "43  passion     11\n",
       "28     baby     10"
      ]
     },
     "execution_count": 14,
     "metadata": {},
     "output_type": "execute_result"
    }
   ],
   "source": [
    "# Find the most common positive words in the Democrat corpus\n",
    "pos_df = pd.DataFrame(\n",
    "    {'word': positive,\n",
    "     'count': pos_counts})\n",
    "pos_df.sort_values('count', ascending=False).head(10)"
   ]
  },
  {
   "cell_type": "code",
   "execution_count": 15,
   "metadata": {},
   "outputs": [
    {
     "data": {
      "text/plain": [
       "0.90582407"
      ]
     },
     "execution_count": 15,
     "metadata": {},
     "output_type": "execute_result"
    }
   ],
   "source": [
    "# Find the mean cosine similarity between \"democrat\" and the top 10 negative words in the Democrat corpus\n",
    "democrat_negative = [democrat_model.wv.similarity('democrat', 'poverty'),\n",
    "                          democrat_model.wv.similarity('democrat', 'death'),\n",
    "                          democrat_model.wv.similarity('democrat', 'failure'),\n",
    "                          democrat_model.wv.similarity('democrat', 'depression'),\n",
    "                          democrat_model.wv.similarity('democrat', 'terrorist'),\n",
    "                          democrat_model.wv.similarity('democrat', 'dead'),\n",
    "                          democrat_model.wv.similarity('democrat', 'bankrupt'),\n",
    "                          democrat_model.wv.similarity('democrat', 'terrible'),\n",
    "                          democrat_model.wv.similarity('democrat', 'hurt'),\n",
    "                          democrat_model.wv.similarity('democrat', 'sick')]\n",
    "np.mean(democrat_negative)"
   ]
  },
  {
   "cell_type": "code",
   "execution_count": 16,
   "metadata": {},
   "outputs": [
    {
     "data": {
      "text/plain": [
       "0.8484914"
      ]
     },
     "execution_count": 16,
     "metadata": {},
     "output_type": "execute_result"
    }
   ],
   "source": [
    "# Find the mean cosine similarity between \"republican\" and the top 10 negative words in the Democrat corpus\n",
    "republican_negative = [democrat_model.wv.similarity('republican', 'poverty'),\n",
    "                          democrat_model.wv.similarity('republican', 'death'),\n",
    "                          democrat_model.wv.similarity('republican', 'failure'),\n",
    "                          democrat_model.wv.similarity('republican', 'depression'),\n",
    "                          democrat_model.wv.similarity('republican', 'terrorist'),\n",
    "                          democrat_model.wv.similarity('republican', 'dead'),\n",
    "                          democrat_model.wv.similarity('republican', 'bankrupt'),\n",
    "                          democrat_model.wv.similarity('republican', 'terrible'),\n",
    "                          democrat_model.wv.similarity('republican', 'hurt'),\n",
    "                          democrat_model.wv.similarity('republican', 'sick')]\n",
    "np.mean(republican_negative)"
   ]
  },
  {
   "cell_type": "code",
   "execution_count": 17,
   "metadata": {},
   "outputs": [
    {
     "data": {
      "text/plain": [
       "0.8233612"
      ]
     },
     "execution_count": 17,
     "metadata": {},
     "output_type": "execute_result"
    }
   ],
   "source": [
    "# Find the mean cosine similarity between \"democrat\" and the top 10 positive words in the Democrat corpus\n",
    "democrat_positive = [democrat_model.wv.similarity('democrat', 'proud'),\n",
    "                          democrat_model.wv.similarity('democrat', 'free'),\n",
    "                          democrat_model.wv.similarity('democrat', 'win'),\n",
    "                          democrat_model.wv.similarity('democrat', 'love'),\n",
    "                          democrat_model.wv.similarity('democrat', 'happy'),\n",
    "                          democrat_model.wv.similarity('democrat', 'god'),\n",
    "                          democrat_model.wv.similarity('democrat', 'mother'),\n",
    "                          democrat_model.wv.similarity('democrat', 'success'),\n",
    "                          democrat_model.wv.similarity('democrat', 'passion'),\n",
    "                          democrat_model.wv.similarity('democrat', 'baby')]\n",
    "np.mean(democrat_positive)"
   ]
  },
  {
   "cell_type": "code",
   "execution_count": 18,
   "metadata": {},
   "outputs": [
    {
     "data": {
      "text/plain": [
       "0.76201755"
      ]
     },
     "execution_count": 18,
     "metadata": {},
     "output_type": "execute_result"
    }
   ],
   "source": [
    "# Find the mean cosine similarity between \"republican\" and the top 10 negative words in the Democrat corpus\n",
    "republican_positive = [democrat_model.wv.similarity('republican', 'proud'),\n",
    "                          democrat_model.wv.similarity('republican', 'free'),\n",
    "                          democrat_model.wv.similarity('republican', 'win'),\n",
    "                          democrat_model.wv.similarity('republican', 'love'),\n",
    "                          democrat_model.wv.similarity('republican', 'happy'),\n",
    "                          democrat_model.wv.similarity('republican', 'god'),\n",
    "                          democrat_model.wv.similarity('republican', 'mother'),\n",
    "                          democrat_model.wv.similarity('republican', 'success'),\n",
    "                          democrat_model.wv.similarity('republican', 'passion'),\n",
    "                          democrat_model.wv.similarity('republican', 'baby')]\n",
    "np.mean(republican_positive)"
   ]
  },
  {
   "cell_type": "markdown",
   "metadata": {},
   "source": [
    "The code below repeats the same process above for the \"Republican corpus\", so no comments are included here."
   ]
  },
  {
   "cell_type": "code",
   "execution_count": 19,
   "metadata": {},
   "outputs": [],
   "source": [
    "os.chdir(\"/Users/nicholasaoki/Desktop/debate_transcripts/Republican\")"
   ]
  },
  {
   "cell_type": "code",
   "execution_count": 20,
   "metadata": {},
   "outputs": [
    {
     "name": "stdout",
     "output_type": "stream",
     "text": [
      "2008_1_McCain_Republican.txt\n",
      "2004_1_Bush_Republican.txt\n",
      "1976_1_Ford_Republican.txt\n",
      "1984_2_Bush_Republican.txt\n",
      "1976_3_Ford_Republican.txt\n",
      "2004_3_Cheney_Republican.txt\n",
      "1976_2_Ford_Republican.txt\n",
      "2004_2_Bush_Republican.txt\n",
      "2004_4_Bush_Republican.txt\n",
      "2008_3_McCain_Republican.txt\n",
      "1992_4_Bush_Republican.txt\n",
      "2012_4_Romney_Republican.txt\n",
      "2000_3_Bush_Republican.txt\n",
      "1988_3_Bush_Republican.txt\n",
      "1960_1_Nixon_Republican.txt\n",
      "2020_1_Trump_Republican.txt\n",
      "1960_4_Nixon_Republican.txt\n",
      "2016_4_Trump_Republican.txt\n",
      "2012_2_Ryan_Republican.txt\n",
      "2000_1_Bush_Republican.txt\n",
      "1988_1_Bush_Republican.txt\n",
      "2016_1_Trump_Republican.txt\n",
      "2016_2_Pence_Republican.txt\n",
      "1988_2_Quayle_Republican.txt\n",
      "2000_4_Bush_Republican.txt\n",
      "1980_2_Reagan_Republican.txt\n",
      "2020_2_Pence_Republican.txt\n",
      "1992_2_Quayle_Republican.txt\n",
      "2000_2_Cheney_Republican.txt\n",
      "1996_2_Kemp_Republican.txt\n",
      "1960_2_Nixon_Republican.txt\n",
      "1984_3_Reagan_Republican.txt\n",
      "1980_1_Reagan_Republican.txt\n",
      "1992_3_1_Bush_Republican.txt\n",
      "2008_4_McCain_Republican.txt\n",
      "1996_3_Dole_Republican.txt\n",
      "1996_1_Dole_Republican.txt\n",
      "2012_3_Romney_Republican.txt\n",
      "1992_3_2_Bush_Republican.txt\n",
      "1984_1_Reagan_Republican.txt\n",
      "2020_3_Trump_Republican.txt\n",
      "1992_1_1_Bush_Republican.txt\n",
      "1960_3_Nixon_Republican.txt\n",
      "2012_1_Romney_Republican.txt\n",
      "2016_3_Trump_Republican.txt\n",
      "1992_1_2_Bush_Republican.txt\n",
      "2008_2_Palin_Republican.txt\n"
     ]
    }
   ],
   "source": [
    "all_sentences = []\n",
    "\n",
    "for filename in glob.glob('*.txt'):\n",
    "\n",
    "    with open(filename, 'r') as file:\n",
    "        \n",
    "        print(filename)\n",
    "\n",
    "        data = file.read()\n",
    "\n",
    "        data = data.replace(\"Mr.\", \"Mister\")\n",
    "        data = data.replace(\"Mrs.\", \"Missus\")\n",
    "        data = data.replace(\"Ms.\", \"Miss\")\n",
    "\n",
    "        data = data[:-1]\n",
    "\n",
    "        data = data.lower()\n",
    "\n",
    "        punctuation = ';:\\,$–'\n",
    "\n",
    "        for ele in data:\n",
    "            if ele in punctuation:\n",
    "                data = data.replace(ele, \"\")\n",
    "\n",
    "        # split data\n",
    "        words = re.split(\"\\?|\\.|!\", data)\n",
    "\n",
    "        words_no_initial_space = []\n",
    "\n",
    "        for i in words:\n",
    "\n",
    "            if i[0] == ' ':\n",
    "                j = i[1:]\n",
    "                words_no_initial_space += [j]\n",
    "\n",
    "            else:\n",
    "                words_no_initial_space += [i]\n",
    "\n",
    "        for k in words_no_initial_space:\n",
    "\n",
    "            split_sentence = k.split(' ')\n",
    "            all_sentences += [split_sentence]"
   ]
  },
  {
   "cell_type": "code",
   "execution_count": 21,
   "metadata": {},
   "outputs": [
    {
     "data": {
      "text/plain": [
       "[['well', 'thank', 'you', 'jim'], ['and', 'thanks', 'to', 'everybody']]"
      ]
     },
     "execution_count": 21,
     "metadata": {},
     "output_type": "execute_result"
    }
   ],
   "source": [
    "all_sentences[0:2]"
   ]
  },
  {
   "cell_type": "code",
   "execution_count": 22,
   "metadata": {},
   "outputs": [
    {
     "name": "stdout",
     "output_type": "stream",
     "text": [
      "['well', 'thank', 'you', 'jim', 'and', 'thanks', 'to', 'everybody', 'and', 'i']\n"
     ]
    }
   ],
   "source": [
    "words = []\n",
    "\n",
    "for i in all_sentences:\n",
    "    \n",
    "    for j in i:\n",
    "        words += [j]\n",
    "        \n",
    "print(words[0:10])"
   ]
  },
  {
   "cell_type": "code",
   "execution_count": 23,
   "metadata": {},
   "outputs": [
    {
     "name": "stdout",
     "output_type": "stream",
     "text": [
      "279728\n",
      "11228\n"
     ]
    }
   ],
   "source": [
    "print(len(words))\n",
    "print(len(set(words)))"
   ]
  },
  {
   "cell_type": "code",
   "execution_count": 24,
   "metadata": {},
   "outputs": [],
   "source": [
    "republican_model = FastText(all_sentences)"
   ]
  },
  {
   "cell_type": "code",
   "execution_count": 25,
   "metadata": {},
   "outputs": [
    {
     "data": {
      "text/plain": [
       "[5, 6, 0, 7, 2]"
      ]
     },
     "execution_count": 25,
     "metadata": {},
     "output_type": "execute_result"
    }
   ],
   "source": [
    "neg_counts = []\n",
    "\n",
    "for neg_word in negative:\n",
    "    count = words.count(neg_word)\n",
    "    neg_counts.append(count)\n",
    "\n",
    "neg_counts[0:5]"
   ]
  },
  {
   "cell_type": "code",
   "execution_count": 26,
   "metadata": {},
   "outputs": [
    {
     "data": {
      "text/plain": [
       "[0, 1, 66, 9, 2]"
      ]
     },
     "execution_count": 26,
     "metadata": {},
     "output_type": "execute_result"
    }
   ],
   "source": [
    "pos_counts = []\n",
    "\n",
    "for pos_word in positive:\n",
    "    count = words.count(pos_word)\n",
    "    pos_counts.append(count)\n",
    "\n",
    "pos_counts[0:5]"
   ]
  },
  {
   "cell_type": "code",
   "execution_count": 27,
   "metadata": {},
   "outputs": [
    {
     "data": {
      "text/html": [
       "<div>\n",
       "<style scoped>\n",
       "    .dataframe tbody tr th:only-of-type {\n",
       "        vertical-align: middle;\n",
       "    }\n",
       "\n",
       "    .dataframe tbody tr th {\n",
       "        vertical-align: top;\n",
       "    }\n",
       "\n",
       "    .dataframe thead th {\n",
       "        text-align: right;\n",
       "    }\n",
       "</style>\n",
       "<table border=\"1\" class=\"dataframe\">\n",
       "  <thead>\n",
       "    <tr style=\"text-align: right;\">\n",
       "      <th></th>\n",
       "      <th>word</th>\n",
       "      <th>count</th>\n",
       "    </tr>\n",
       "  </thead>\n",
       "  <tbody>\n",
       "    <tr>\n",
       "      <th>21</th>\n",
       "      <td>disaster</td>\n",
       "      <td>47</td>\n",
       "    </tr>\n",
       "    <tr>\n",
       "      <th>17</th>\n",
       "      <td>terrorist</td>\n",
       "      <td>37</td>\n",
       "    </tr>\n",
       "    <tr>\n",
       "      <th>14</th>\n",
       "      <td>poverty</td>\n",
       "      <td>34</td>\n",
       "    </tr>\n",
       "    <tr>\n",
       "      <th>11</th>\n",
       "      <td>death</td>\n",
       "      <td>28</td>\n",
       "    </tr>\n",
       "    <tr>\n",
       "      <th>34</th>\n",
       "      <td>hurt</td>\n",
       "      <td>27</td>\n",
       "    </tr>\n",
       "    <tr>\n",
       "      <th>39</th>\n",
       "      <td>terrible</td>\n",
       "      <td>25</td>\n",
       "    </tr>\n",
       "    <tr>\n",
       "      <th>24</th>\n",
       "      <td>tragedy</td>\n",
       "      <td>19</td>\n",
       "    </tr>\n",
       "    <tr>\n",
       "      <th>43</th>\n",
       "      <td>jail</td>\n",
       "      <td>18</td>\n",
       "    </tr>\n",
       "    <tr>\n",
       "      <th>19</th>\n",
       "      <td>failure</td>\n",
       "      <td>15</td>\n",
       "    </tr>\n",
       "    <tr>\n",
       "      <th>41</th>\n",
       "      <td>dead</td>\n",
       "      <td>14</td>\n",
       "    </tr>\n",
       "  </tbody>\n",
       "</table>\n",
       "</div>"
      ],
      "text/plain": [
       "         word  count\n",
       "21   disaster     47\n",
       "17  terrorist     37\n",
       "14    poverty     34\n",
       "11      death     28\n",
       "34       hurt     27\n",
       "39   terrible     25\n",
       "24    tragedy     19\n",
       "43       jail     18\n",
       "19    failure     15\n",
       "41       dead     14"
      ]
     },
     "execution_count": 27,
     "metadata": {},
     "output_type": "execute_result"
    }
   ],
   "source": [
    "neg_df = pd.DataFrame(\n",
    "    {'word': negative,\n",
    "     'count': neg_counts})\n",
    "neg_df.sort_values('count', ascending=False).head(10)"
   ]
  },
  {
   "cell_type": "code",
   "execution_count": 28,
   "metadata": {},
   "outputs": [
    {
     "data": {
      "text/html": [
       "<div>\n",
       "<style scoped>\n",
       "    .dataframe tbody tr th:only-of-type {\n",
       "        vertical-align: middle;\n",
       "    }\n",
       "\n",
       "    .dataframe tbody tr th {\n",
       "        vertical-align: top;\n",
       "    }\n",
       "\n",
       "    .dataframe thead th {\n",
       "        text-align: right;\n",
       "    }\n",
       "</style>\n",
       "<table border=\"1\" class=\"dataframe\">\n",
       "  <thead>\n",
       "    <tr style=\"text-align: right;\">\n",
       "      <th></th>\n",
       "      <th>word</th>\n",
       "      <th>count</th>\n",
       "    </tr>\n",
       "  </thead>\n",
       "  <tbody>\n",
       "    <tr>\n",
       "      <th>24</th>\n",
       "      <td>free</td>\n",
       "      <td>140</td>\n",
       "    </tr>\n",
       "    <tr>\n",
       "      <th>46</th>\n",
       "      <td>proud</td>\n",
       "      <td>78</td>\n",
       "    </tr>\n",
       "    <tr>\n",
       "      <th>2</th>\n",
       "      <td>love</td>\n",
       "      <td>66</td>\n",
       "    </tr>\n",
       "    <tr>\n",
       "      <th>14</th>\n",
       "      <td>win</td>\n",
       "      <td>66</td>\n",
       "    </tr>\n",
       "    <tr>\n",
       "      <th>12</th>\n",
       "      <td>mother</td>\n",
       "      <td>31</td>\n",
       "    </tr>\n",
       "    <tr>\n",
       "      <th>35</th>\n",
       "      <td>god</td>\n",
       "      <td>30</td>\n",
       "    </tr>\n",
       "    <tr>\n",
       "      <th>29</th>\n",
       "      <td>happy</td>\n",
       "      <td>29</td>\n",
       "    </tr>\n",
       "    <tr>\n",
       "      <th>21</th>\n",
       "      <td>success</td>\n",
       "      <td>20</td>\n",
       "    </tr>\n",
       "    <tr>\n",
       "      <th>18</th>\n",
       "      <td>victory</td>\n",
       "      <td>15</td>\n",
       "    </tr>\n",
       "    <tr>\n",
       "      <th>28</th>\n",
       "      <td>baby</td>\n",
       "      <td>12</td>\n",
       "    </tr>\n",
       "  </tbody>\n",
       "</table>\n",
       "</div>"
      ],
      "text/plain": [
       "       word  count\n",
       "24     free    140\n",
       "46    proud     78\n",
       "2      love     66\n",
       "14      win     66\n",
       "12   mother     31\n",
       "35      god     30\n",
       "29    happy     29\n",
       "21  success     20\n",
       "18  victory     15\n",
       "28     baby     12"
      ]
     },
     "execution_count": 28,
     "metadata": {},
     "output_type": "execute_result"
    }
   ],
   "source": [
    "pos_df = pd.DataFrame(\n",
    "    {'word': positive,\n",
    "     'count': pos_counts})\n",
    "pos_df.sort_values('count', ascending=False).head(10)"
   ]
  },
  {
   "cell_type": "code",
   "execution_count": 29,
   "metadata": {},
   "outputs": [
    {
     "data": {
      "text/plain": [
       "0.91852844"
      ]
     },
     "execution_count": 29,
     "metadata": {},
     "output_type": "execute_result"
    }
   ],
   "source": [
    "import numpy as np\n",
    "democrat_negative = [republican_model.wv.similarity('democrat', 'disaster'),\n",
    "                          republican_model.wv.similarity('democrat', 'terrorist'),\n",
    "                          republican_model.wv.similarity('democrat', 'poverty'),\n",
    "                          republican_model.wv.similarity('democrat', 'death'),\n",
    "                          republican_model.wv.similarity('democrat', 'hurt'),\n",
    "                          republican_model.wv.similarity('democrat', 'terrible'),\n",
    "                          republican_model.wv.similarity('democrat', 'tragedy'),\n",
    "                          republican_model.wv.similarity('democrat', 'jail'),\n",
    "                          republican_model.wv.similarity('democrat', 'failure'),\n",
    "                          republican_model.wv.similarity('democrat', 'dead')]\n",
    "np.mean(democrat_negative)"
   ]
  },
  {
   "cell_type": "code",
   "execution_count": 30,
   "metadata": {},
   "outputs": [
    {
     "data": {
      "text/plain": [
       "0.9567429"
      ]
     },
     "execution_count": 30,
     "metadata": {},
     "output_type": "execute_result"
    }
   ],
   "source": [
    "republican_negative = [republican_model.wv.similarity('republican', 'poverty'),\n",
    "                          republican_model.wv.similarity('republican', 'death'),\n",
    "                          republican_model.wv.similarity('republican', 'failure'),\n",
    "                          republican_model.wv.similarity('republican', 'depression'),\n",
    "                          republican_model.wv.similarity('republican', 'terrorist'),\n",
    "                          republican_model.wv.similarity('republican', 'dead'),\n",
    "                          republican_model.wv.similarity('republican', 'bankrupt'),\n",
    "                          republican_model.wv.similarity('republican', 'terrible'),\n",
    "                          republican_model.wv.similarity('republican', 'hurt'),\n",
    "                          republican_model.wv.similarity('republican', 'sick')]\n",
    "np.mean(republican_negative)"
   ]
  },
  {
   "cell_type": "code",
   "execution_count": 31,
   "metadata": {},
   "outputs": [
    {
     "data": {
      "text/plain": [
       "0.8346173"
      ]
     },
     "execution_count": 31,
     "metadata": {},
     "output_type": "execute_result"
    }
   ],
   "source": [
    "democrat_positive = [republican_model.wv.similarity('democrat', 'free'),\n",
    "                          republican_model.wv.similarity('democrat', 'proud'),\n",
    "                          republican_model.wv.similarity('democrat', 'love'),\n",
    "                          republican_model.wv.similarity('democrat', 'win'),\n",
    "                          republican_model.wv.similarity('democrat', 'mother'),\n",
    "                          republican_model.wv.similarity('democrat', 'god'),\n",
    "                          republican_model.wv.similarity('democrat', 'happy'),\n",
    "                          republican_model.wv.similarity('democrat', 'success'),\n",
    "                          republican_model.wv.similarity('democrat', 'victory'),\n",
    "                          republican_model.wv.similarity('democrat', 'baby')]\n",
    "np.mean(democrat_positive)"
   ]
  },
  {
   "cell_type": "code",
   "execution_count": 32,
   "metadata": {},
   "outputs": [
    {
     "data": {
      "text/plain": [
       "0.90169716"
      ]
     },
     "execution_count": 32,
     "metadata": {},
     "output_type": "execute_result"
    }
   ],
   "source": [
    "republican_positive = [republican_model.wv.similarity('republican', 'free'),\n",
    "                          republican_model.wv.similarity('republican', 'proud'),\n",
    "                          republican_model.wv.similarity('republican', 'love'),\n",
    "                          republican_model.wv.similarity('republican', 'win'),\n",
    "                          republican_model.wv.similarity('republican', 'mother'),\n",
    "                          republican_model.wv.similarity('republican', 'god'),\n",
    "                          republican_model.wv.similarity('republican', 'happy'),\n",
    "                          republican_model.wv.similarity('republican', 'success'),\n",
    "                          republican_model.wv.similarity('republican', 'victory'),\n",
    "                          republican_model.wv.similarity('republican', 'baby')]\n",
    "np.mean(republican_positive)"
   ]
  }
 ],
 "metadata": {
  "kernelspec": {
   "display_name": "Python 3",
   "language": "python",
   "name": "python3"
  },
  "language_info": {
   "codemirror_mode": {
    "name": "ipython",
    "version": 3
   },
   "file_extension": ".py",
   "mimetype": "text/x-python",
   "name": "python",
   "nbconvert_exporter": "python",
   "pygments_lexer": "ipython3",
   "version": "3.8.5"
  }
 },
 "nbformat": 4,
 "nbformat_minor": 4
}
