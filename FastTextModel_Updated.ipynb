{
 "cells": [
  {
   "cell_type": "code",
   "execution_count": 60,
   "metadata": {},
   "outputs": [],
   "source": [
    "# import required modules\n",
    "import os\n",
    "import glob\n",
    "import re\n",
    "from gensim.models import Word2Vec\n",
    "from gensim.models.phrases import Phraser, Phrases\n",
    "from gensim.models import FastText"
   ]
  },
  {
   "cell_type": "code",
   "execution_count": 61,
   "metadata": {},
   "outputs": [],
   "source": [
    "# open directory/initialize variables\n",
    "# (used my specific path)\n",
    "os.chdir(\"/Users/nicholasaoki/Desktop/LIN_205A_Project-main/debate_transcripts/Democrat\")"
   ]
  },
  {
   "cell_type": "code",
   "execution_count": 62,
   "metadata": {},
   "outputs": [
    {
     "name": "stdout",
     "output_type": "stream",
     "text": [
      "2008_1_Obama_Democrat.txt\n",
      "2020_2_Harris_Democrat.txt\n",
      "2020_3_Biden_Democrat.txt\n",
      "1988_3_Dukakis_Democrat.txt\n",
      "2004_4_Kerry_Democrat.txt\n",
      "1992_1_1_Clinton_Democrat.txt\n",
      "1988_2_Bentsen_Democrat.txt\n",
      "2016_1_Clinton_Democrat.txt\n",
      "2004_2_Kerry_Democrat.txt\n",
      "2008_4_Obama_Democrat.txt\n",
      "1976_2_Carter_Democrat.txt\n",
      "2016_4_Clinton_Democrat.txt\n",
      "1976_3_Carter_Democrat.txt\n",
      "2008_2_Biden_Democrat.txt\n",
      "1976_1_Carter_Democrat.txt\n",
      "2012_3_Obama_Democrat.txt\n",
      "1984_2_Ferraro_Democrat.txt\n",
      "1960_4_Kennedy_Democrat.txt\n",
      "1980_2_Carter_Democrat.txt\n",
      "1960_1_Kennedy_Democrat.txt\n",
      "1992_3_1_Clinton_Democrat.txt\n",
      "2004_1_Kerry_Democrat.txt\n",
      "1996_3_Clinton_Democrat.txt\n",
      "1984_3_Mondale_Democrat.txt\n",
      "2012_1_Obama_Democrat.txt\n",
      "2000_1_Gore_Democrat.txt\n",
      "2016_2_Kaine_Democrat.txt\n",
      "1996_2_Gore_Democrat.txt\n",
      "1960_2 Kennedy_Democrat.txt\n",
      "1992_3_2_Clinton_Democrat.txt\n",
      "2000_2_Lieberman_Democrat.txt\n",
      "2000_4_Gore_Democrat.txt\n",
      "1988_1_Dukakis_Democrat.txt\n",
      "1992_2_Gore_Democrat.txt\n",
      "2004_3_Edwards_Democrat.txt\n",
      "1992_1_2_Clinton_Democrat.txt\n",
      "1960_3_Kennedy_Democrat.txt\n",
      "2012_4_Obama_Democrat.txt\n",
      "2000_3_Gore_Democrat.txt\n",
      "1984_1_Mondale_Democrat.txt\n",
      "1996_1_Clinton_Democrat.txt\n",
      "2012_2_Biden_Democrat.txt\n",
      "2008_3_Obama_Democrat.txt\n",
      "2016_3_Clinton_Democrat.txt\n",
      "2020_1_Biden_Democrat.txt\n",
      "1992_4_Clinton_Democrat.txt\n"
     ]
    }
   ],
   "source": [
    "all_sentences = []\n",
    "\n",
    "for filename in glob.glob('*.txt'):\n",
    "\n",
    "    with open(filename, 'r') as file:\n",
    "        \n",
    "        print(filename)\n",
    "\n",
    "            #read content of file and store in new variable\n",
    "        data = file.read()\n",
    "            # print(data)\n",
    "\n",
    "        data = data.replace(\"Mr.\", \"Mister\")\n",
    "        data = data.replace(\"Mrs.\", \"Missus\")\n",
    "        data = data.replace(\"Ms.\", \"Miss\")\n",
    "\n",
    "        data = data[:-1]\n",
    "\n",
    "        data = data.lower()\n",
    "\n",
    "        punctuation = ';:\\,$–'\n",
    "\n",
    "        # Removing punctuations in string\n",
    "        # Using loop + punctuation string\n",
    "        for ele in data:\n",
    "            if ele in punctuation:\n",
    "                data = data.replace(ele, \"\")\n",
    "\n",
    "        # split data\n",
    "        words = re.split(\"\\?|\\.|!\", data)\n",
    "\n",
    "        words_no_initial_space = []\n",
    "\n",
    "        for i in words:\n",
    "\n",
    "            if i[0] == ' ':\n",
    "                j = i[1:]\n",
    "                words_no_initial_space += [j]\n",
    "\n",
    "            else:\n",
    "                words_no_initial_space += [i]\n",
    "\n",
    "        for k in words_no_initial_space:\n",
    "\n",
    "            split_sentence = k.split(' ')\n",
    "            all_sentences += [split_sentence]"
   ]
  },
  {
   "cell_type": "code",
   "execution_count": 63,
   "metadata": {},
   "outputs": [
    {
     "data": {
      "text/plain": [
       "[['well',\n",
       "  'thank',\n",
       "  'you',\n",
       "  'very',\n",
       "  'much',\n",
       "  'jim',\n",
       "  'and',\n",
       "  'thanks',\n",
       "  'to',\n",
       "  'the',\n",
       "  'commission',\n",
       "  'and',\n",
       "  'the',\n",
       "  'university',\n",
       "  'of',\n",
       "  'mississippi',\n",
       "  'ole',\n",
       "  'miss',\n",
       "  'for',\n",
       "  'hosting',\n",
       "  'us',\n",
       "  'tonight'],\n",
       " ['i',\n",
       "  'can’t',\n",
       "  'think',\n",
       "  'of',\n",
       "  'a',\n",
       "  'more',\n",
       "  'important',\n",
       "  'time',\n",
       "  'for',\n",
       "  'us',\n",
       "  'to',\n",
       "  'talk',\n",
       "  'about',\n",
       "  'the',\n",
       "  'future',\n",
       "  'of',\n",
       "  'the',\n",
       "  'country']]"
      ]
     },
     "execution_count": 63,
     "metadata": {},
     "output_type": "execute_result"
    }
   ],
   "source": [
    "all_sentences[0:2]"
   ]
  },
  {
   "cell_type": "code",
   "execution_count": 64,
   "metadata": {},
   "outputs": [
    {
     "name": "stdout",
     "output_type": "stream",
     "text": [
      "['well', 'thank', 'you', 'very', 'much', 'jim', 'and', 'thanks', 'to', 'the']\n"
     ]
    }
   ],
   "source": [
    "words = []\n",
    "\n",
    "for i in all_sentences:\n",
    "    \n",
    "    for j in i:\n",
    "        words += [j]\n",
    "        \n",
    "print(words[0:10])"
   ]
  },
  {
   "cell_type": "code",
   "execution_count": 65,
   "metadata": {},
   "outputs": [
    {
     "name": "stdout",
     "output_type": "stream",
     "text": [
      "277871\n",
      "10857\n"
     ]
    }
   ],
   "source": [
    "print(len(words))\n",
    "print(len(set(words)))"
   ]
  },
  {
   "cell_type": "code",
   "execution_count": 66,
   "metadata": {},
   "outputs": [],
   "source": [
    "democrat_model = FastText(all_sentences)"
   ]
  },
  {
   "cell_type": "code",
   "execution_count": 19,
   "metadata": {},
   "outputs": [
    {
     "data": {
      "text/plain": [
       "<bound method NDFrame.head of            term   pleasure    arousal  dominance\n",
       "0     abduction  31.292517  62.698413  39.569161\n",
       "1      abortion  39.682540  61.111111  52.040816\n",
       "2        absurd  48.299320  49.433107  53.628118\n",
       "3     abundance  74.716553  62.471655  65.759637\n",
       "4         abuse  20.408163  77.437642  41.836735\n",
       "...         ...        ...        ...        ...\n",
       "1029      yacht  78.798186  63.605442  69.160998\n",
       "1030     yellow  63.605442  50.226757  62.018141\n",
       "1031      young  78.117914  63.945578  60.090703\n",
       "1032      youth  76.530612  64.285714  57.936508\n",
       "1033       zest  76.984127  63.378685  68.027211\n",
       "\n",
       "[1034 rows x 4 columns]>"
      ]
     },
     "execution_count": 19,
     "metadata": {},
     "output_type": "execute_result"
    }
   ],
   "source": [
    "import pandas as pd\n",
    "df = pd.read_csv('~/Desktop/anew.csv')\n",
    "df.head"
   ]
  },
  {
   "cell_type": "code",
   "execution_count": 32,
   "metadata": {},
   "outputs": [
    {
     "data": {
      "text/plain": [
       "['rape',\n",
       " 'suicide',\n",
       " 'funeral',\n",
       " 'rejected',\n",
       " 'cancer',\n",
       " 'murderer',\n",
       " 'torture',\n",
       " 'suffocate',\n",
       " 'unhappy',\n",
       " 'sad',\n",
       " 'loneliness',\n",
       " 'death',\n",
       " 'slaughter',\n",
       " 'infection',\n",
       " 'poverty',\n",
       " 'betray',\n",
       " 'syphilis',\n",
       " 'terrorist',\n",
       " 'grief',\n",
       " 'failure',\n",
       " 'terrified',\n",
       " 'disaster',\n",
       " 'rabies',\n",
       " 'ulcer',\n",
       " 'tragedy',\n",
       " 'abuse',\n",
       " 'mutilate',\n",
       " 'depressed',\n",
       " 'slave',\n",
       " 'pollute',\n",
       " 'depression',\n",
       " 'gloom',\n",
       " 'killer',\n",
       " 'sick',\n",
       " 'hurt',\n",
       " 'nightmare',\n",
       " 'drown',\n",
       " 'morgue',\n",
       " 'misery',\n",
       " 'terrible',\n",
       " 'disloyal',\n",
       " 'dead',\n",
       " 'distressed',\n",
       " 'jail',\n",
       " 'cruel',\n",
       " 'paralysis',\n",
       " 'poison',\n",
       " 'hatred',\n",
       " 'toothache',\n",
       " 'bankrupt']"
      ]
     },
     "execution_count": 32,
     "metadata": {},
     "output_type": "execute_result"
    }
   ],
   "source": [
    "negative = df.sort_values('pleasure')['term'].head(50)\n",
    "negative = negative.tolist()\n",
    "negative"
   ]
  },
  {
   "cell_type": "code",
   "execution_count": 33,
   "metadata": {},
   "outputs": [
    {
     "data": {
      "text/plain": [
       "['triumphant',\n",
       " 'paradise',\n",
       " 'love',\n",
       " 'loved',\n",
       " 'joy',\n",
       " 'miracle',\n",
       " 'humor',\n",
       " 'laughter',\n",
       " 'champion',\n",
       " 'friendly',\n",
       " 'sweetheart',\n",
       " 'affection',\n",
       " 'mother',\n",
       " 'excellence',\n",
       " 'win',\n",
       " 'comedy',\n",
       " 'fun',\n",
       " 'cash',\n",
       " 'victory',\n",
       " 'orgasm',\n",
       " 'romantic',\n",
       " 'success',\n",
       " 'pleasure',\n",
       " 'treasure',\n",
       " 'free',\n",
       " 'delight',\n",
       " 'kiss',\n",
       " 'joyful',\n",
       " 'baby',\n",
       " 'happy',\n",
       " 'promotion',\n",
       " 'graduate',\n",
       " 'lucky',\n",
       " 'terrific',\n",
       " 'vacation',\n",
       " 'god',\n",
       " 'rainbow',\n",
       " 'music',\n",
       " 'valentine',\n",
       " 'joke',\n",
       " 'cheer',\n",
       " 'thrill',\n",
       " 'sex',\n",
       " 'passion',\n",
       " 'millionaire',\n",
       " 'beach',\n",
       " 'proud',\n",
       " 'sexy',\n",
       " 'rollercoaster',\n",
       " 'diploma']"
      ]
     },
     "execution_count": 33,
     "metadata": {},
     "output_type": "execute_result"
    }
   ],
   "source": [
    "positive = df.sort_values('pleasure', ascending=False)['term'].head(50)\n",
    "positive = positive.tolist()\n",
    "positive"
   ]
  },
  {
   "cell_type": "code",
   "execution_count": 69,
   "metadata": {},
   "outputs": [
    {
     "data": {
      "text/plain": [
       "[9, 3, 1, 6, 12]"
      ]
     },
     "execution_count": 69,
     "metadata": {},
     "output_type": "execute_result"
    }
   ],
   "source": [
    "neg_counts = []\n",
    "\n",
    "for neg_word in negative:\n",
    "    count = words.count(neg_word)\n",
    "    neg_counts.append(count)\n",
    "\n",
    "neg_counts[0:5]"
   ]
  },
  {
   "cell_type": "code",
   "execution_count": 70,
   "metadata": {},
   "outputs": [
    {
     "data": {
      "text/plain": [
       "[0, 0, 33, 7, 0]"
      ]
     },
     "execution_count": 70,
     "metadata": {},
     "output_type": "execute_result"
    }
   ],
   "source": [
    "pos_counts = []\n",
    "\n",
    "for pos_word in positive:\n",
    "    count = words.count(pos_word)\n",
    "    pos_counts.append(count)\n",
    "\n",
    "pos_counts[0:5]"
   ]
  },
  {
   "cell_type": "code",
   "execution_count": 71,
   "metadata": {},
   "outputs": [
    {
     "data": {
      "text/html": [
       "<div>\n",
       "<style scoped>\n",
       "    .dataframe tbody tr th:only-of-type {\n",
       "        vertical-align: middle;\n",
       "    }\n",
       "\n",
       "    .dataframe tbody tr th {\n",
       "        vertical-align: top;\n",
       "    }\n",
       "\n",
       "    .dataframe thead th {\n",
       "        text-align: right;\n",
       "    }\n",
       "</style>\n",
       "<table border=\"1\" class=\"dataframe\">\n",
       "  <thead>\n",
       "    <tr style=\"text-align: right;\">\n",
       "      <th></th>\n",
       "      <th>word</th>\n",
       "      <th>count</th>\n",
       "    </tr>\n",
       "  </thead>\n",
       "  <tbody>\n",
       "    <tr>\n",
       "      <th>14</th>\n",
       "      <td>poverty</td>\n",
       "      <td>33</td>\n",
       "    </tr>\n",
       "    <tr>\n",
       "      <th>11</th>\n",
       "      <td>death</td>\n",
       "      <td>29</td>\n",
       "    </tr>\n",
       "    <tr>\n",
       "      <th>19</th>\n",
       "      <td>failure</td>\n",
       "      <td>25</td>\n",
       "    </tr>\n",
       "    <tr>\n",
       "      <th>30</th>\n",
       "      <td>depression</td>\n",
       "      <td>24</td>\n",
       "    </tr>\n",
       "    <tr>\n",
       "      <th>17</th>\n",
       "      <td>terrorist</td>\n",
       "      <td>24</td>\n",
       "    </tr>\n",
       "    <tr>\n",
       "      <th>41</th>\n",
       "      <td>dead</td>\n",
       "      <td>23</td>\n",
       "    </tr>\n",
       "    <tr>\n",
       "      <th>49</th>\n",
       "      <td>bankrupt</td>\n",
       "      <td>21</td>\n",
       "    </tr>\n",
       "    <tr>\n",
       "      <th>39</th>\n",
       "      <td>terrible</td>\n",
       "      <td>21</td>\n",
       "    </tr>\n",
       "    <tr>\n",
       "      <th>34</th>\n",
       "      <td>hurt</td>\n",
       "      <td>21</td>\n",
       "    </tr>\n",
       "    <tr>\n",
       "      <th>33</th>\n",
       "      <td>sick</td>\n",
       "      <td>17</td>\n",
       "    </tr>\n",
       "  </tbody>\n",
       "</table>\n",
       "</div>"
      ],
      "text/plain": [
       "          word  count\n",
       "14     poverty     33\n",
       "11       death     29\n",
       "19     failure     25\n",
       "30  depression     24\n",
       "17   terrorist     24\n",
       "41        dead     23\n",
       "49    bankrupt     21\n",
       "39    terrible     21\n",
       "34        hurt     21\n",
       "33        sick     17"
      ]
     },
     "execution_count": 71,
     "metadata": {},
     "output_type": "execute_result"
    }
   ],
   "source": [
    "neg_df = pd.DataFrame(\n",
    "    {'word': negative,\n",
    "     'count': neg_counts})\n",
    "neg_df.sort_values('count', ascending=False).head(10)"
   ]
  },
  {
   "cell_type": "code",
   "execution_count": 72,
   "metadata": {},
   "outputs": [
    {
     "data": {
      "text/html": [
       "<div>\n",
       "<style scoped>\n",
       "    .dataframe tbody tr th:only-of-type {\n",
       "        vertical-align: middle;\n",
       "    }\n",
       "\n",
       "    .dataframe tbody tr th {\n",
       "        vertical-align: top;\n",
       "    }\n",
       "\n",
       "    .dataframe thead th {\n",
       "        text-align: right;\n",
       "    }\n",
       "</style>\n",
       "<table border=\"1\" class=\"dataframe\">\n",
       "  <thead>\n",
       "    <tr style=\"text-align: right;\">\n",
       "      <th></th>\n",
       "      <th>word</th>\n",
       "      <th>count</th>\n",
       "    </tr>\n",
       "  </thead>\n",
       "  <tbody>\n",
       "    <tr>\n",
       "      <th>46</th>\n",
       "      <td>proud</td>\n",
       "      <td>72</td>\n",
       "    </tr>\n",
       "    <tr>\n",
       "      <th>24</th>\n",
       "      <td>free</td>\n",
       "      <td>66</td>\n",
       "    </tr>\n",
       "    <tr>\n",
       "      <th>14</th>\n",
       "      <td>win</td>\n",
       "      <td>36</td>\n",
       "    </tr>\n",
       "    <tr>\n",
       "      <th>2</th>\n",
       "      <td>love</td>\n",
       "      <td>33</td>\n",
       "    </tr>\n",
       "    <tr>\n",
       "      <th>29</th>\n",
       "      <td>happy</td>\n",
       "      <td>29</td>\n",
       "    </tr>\n",
       "    <tr>\n",
       "      <th>35</th>\n",
       "      <td>god</td>\n",
       "      <td>26</td>\n",
       "    </tr>\n",
       "    <tr>\n",
       "      <th>12</th>\n",
       "      <td>mother</td>\n",
       "      <td>26</td>\n",
       "    </tr>\n",
       "    <tr>\n",
       "      <th>21</th>\n",
       "      <td>success</td>\n",
       "      <td>24</td>\n",
       "    </tr>\n",
       "    <tr>\n",
       "      <th>43</th>\n",
       "      <td>passion</td>\n",
       "      <td>11</td>\n",
       "    </tr>\n",
       "    <tr>\n",
       "      <th>28</th>\n",
       "      <td>baby</td>\n",
       "      <td>10</td>\n",
       "    </tr>\n",
       "  </tbody>\n",
       "</table>\n",
       "</div>"
      ],
      "text/plain": [
       "       word  count\n",
       "46    proud     72\n",
       "24     free     66\n",
       "14      win     36\n",
       "2      love     33\n",
       "29    happy     29\n",
       "35      god     26\n",
       "12   mother     26\n",
       "21  success     24\n",
       "43  passion     11\n",
       "28     baby     10"
      ]
     },
     "execution_count": 72,
     "metadata": {},
     "output_type": "execute_result"
    }
   ],
   "source": [
    "pos_df = pd.DataFrame(\n",
    "    {'word': positive,\n",
    "     'count': pos_counts})\n",
    "pos_df.sort_values('count', ascending=False).head(10)"
   ]
  },
  {
   "cell_type": "code",
   "execution_count": 79,
   "metadata": {},
   "outputs": [
    {
     "data": {
      "text/plain": [
       "0.90407073"
      ]
     },
     "execution_count": 79,
     "metadata": {},
     "output_type": "execute_result"
    }
   ],
   "source": [
    "import numpy as np\n",
    "democrat_negative = [democrat_model.wv.similarity('democrat', 'poverty'),\n",
    "                          democrat_model.wv.similarity('democrat', 'death'),\n",
    "                          democrat_model.wv.similarity('democrat', 'failure'),\n",
    "                          democrat_model.wv.similarity('democrat', 'depression'),\n",
    "                          democrat_model.wv.similarity('democrat', 'terrorist'),\n",
    "                          democrat_model.wv.similarity('democrat', 'dead'),\n",
    "                          democrat_model.wv.similarity('democrat', 'bankrupt'),\n",
    "                          democrat_model.wv.similarity('democrat', 'terrible'),\n",
    "                          democrat_model.wv.similarity('democrat', 'hurt'),\n",
    "                          democrat_model.wv.similarity('democrat', 'sick')]\n",
    "np.mean(democrat_negative)"
   ]
  },
  {
   "cell_type": "code",
   "execution_count": 80,
   "metadata": {},
   "outputs": [
    {
     "data": {
      "text/plain": [
       "0.85002613"
      ]
     },
     "execution_count": 80,
     "metadata": {},
     "output_type": "execute_result"
    }
   ],
   "source": [
    "republican_negative = [democrat_model.wv.similarity('republican', 'poverty'),\n",
    "                          democrat_model.wv.similarity('republican', 'death'),\n",
    "                          democrat_model.wv.similarity('republican', 'failure'),\n",
    "                          democrat_model.wv.similarity('republican', 'depression'),\n",
    "                          democrat_model.wv.similarity('republican', 'terrorist'),\n",
    "                          democrat_model.wv.similarity('republican', 'dead'),\n",
    "                          democrat_model.wv.similarity('republican', 'bankrupt'),\n",
    "                          democrat_model.wv.similarity('republican', 'terrible'),\n",
    "                          democrat_model.wv.similarity('republican', 'hurt'),\n",
    "                          democrat_model.wv.similarity('republican', 'sick')]\n",
    "np.mean(republican_negative)"
   ]
  },
  {
   "cell_type": "code",
   "execution_count": 81,
   "metadata": {},
   "outputs": [
    {
     "data": {
      "text/plain": [
       "0.8184107"
      ]
     },
     "execution_count": 81,
     "metadata": {},
     "output_type": "execute_result"
    }
   ],
   "source": [
    "democrat_positive = [democrat_model.wv.similarity('democrat', 'proud'),\n",
    "                          democrat_model.wv.similarity('democrat', 'free'),\n",
    "                          democrat_model.wv.similarity('democrat', 'win'),\n",
    "                          democrat_model.wv.similarity('democrat', 'love'),\n",
    "                          democrat_model.wv.similarity('democrat', 'happy'),\n",
    "                          democrat_model.wv.similarity('democrat', 'god'),\n",
    "                          democrat_model.wv.similarity('democrat', 'mother'),\n",
    "                          democrat_model.wv.similarity('democrat', 'success'),\n",
    "                          democrat_model.wv.similarity('democrat', 'passion'),\n",
    "                          democrat_model.wv.similarity('democrat', 'baby')]\n",
    "np.mean(democrat_positive)"
   ]
  },
  {
   "cell_type": "code",
   "execution_count": 82,
   "metadata": {},
   "outputs": [
    {
     "data": {
      "text/plain": [
       "0.7570471"
      ]
     },
     "execution_count": 82,
     "metadata": {},
     "output_type": "execute_result"
    }
   ],
   "source": [
    "republican_positive = [democrat_model.wv.similarity('republican', 'proud'),\n",
    "                          democrat_model.wv.similarity('republican', 'free'),\n",
    "                          democrat_model.wv.similarity('republican', 'win'),\n",
    "                          democrat_model.wv.similarity('republican', 'love'),\n",
    "                          democrat_model.wv.similarity('republican', 'happy'),\n",
    "                          democrat_model.wv.similarity('republican', 'god'),\n",
    "                          democrat_model.wv.similarity('republican', 'mother'),\n",
    "                          democrat_model.wv.similarity('republican', 'success'),\n",
    "                          democrat_model.wv.similarity('republican', 'passion'),\n",
    "                          democrat_model.wv.similarity('republican', 'baby')]\n",
    "np.mean(republican_positive)"
   ]
  },
  {
   "cell_type": "code",
   "execution_count": 83,
   "metadata": {},
   "outputs": [],
   "source": [
    "# open directory/initialize variables\n",
    "# (used my specific path)\n",
    "os.chdir(\"/Users/nicholasaoki/Desktop/LIN_205A_Project-main/debate_transcripts/Republican\")"
   ]
  },
  {
   "cell_type": "code",
   "execution_count": 84,
   "metadata": {},
   "outputs": [
    {
     "name": "stdout",
     "output_type": "stream",
     "text": [
      "2008_1_McCain_Republican.txt\n",
      "2004_1_Bush_Republican.txt\n",
      "1976_1_Ford_Republican.txt\n",
      "1984_2_Bush_Republican.txt\n",
      "1976_3_Ford_Republican.txt\n",
      "2004_3_Cheney_Republican.txt\n",
      "1976_2_Ford_Republican.txt\n",
      "2004_2_Bush_Republican.txt\n",
      "2004_4_Bush_Republican.txt\n",
      "2008_3_McCain_Republican.txt\n",
      "1992_4_Bush_Republican.txt\n",
      "2012_4_Romney_Republican.txt\n",
      "2000_3_Bush_Republican.txt\n",
      "1988_3_Bush_Republican.txt\n",
      "1960_1_Nixon_Republican.txt\n",
      "2020_1_Trump_Republican.txt\n",
      "1960_4_Nixon_Republican.txt\n",
      "2016_4_Trump_Republican.txt\n",
      "2012_2_Ryan_Republican.txt\n",
      "2000_1_Bush_Republican.txt\n",
      "1988_1_Bush_Republican.txt\n",
      "2016_1_Trump_Republican.txt\n",
      "2016_2_Pence_Republican.txt\n",
      "1988_2_Quayle_Republican.txt\n",
      "2000_4_Bush_Republican.txt\n",
      "1980_2_Reagan_Republican.txt\n",
      "2020_2_Pence_Republican.txt\n",
      "1992_2_Quayle_Republican.txt\n",
      "2000_2_Cheney_Republican.txt\n",
      "1996_2_Kemp_Republican.txt\n",
      "1960_2_Nixon_Republican.txt\n",
      "1984_3_Reagan_Republican.txt\n",
      "1980_1_Reagan_Republican.txt\n",
      "1992_3_1_Bush_Republican.txt\n",
      "2008_4_McCain_Republican.txt\n",
      "1996_3_Dole_Republican.txt\n",
      "1996_1_Dole_Republican.txt\n",
      "2012_3_Romney_Republican.txt\n",
      "1992_3_2_Bush_Republican.txt\n",
      "1984_1_Reagan_Republican.txt\n",
      "2020_3_Trump_Republican.txt\n",
      "1992_1_1_Bush_Republican.txt\n",
      "1960_3_Nixon_Republican.txt\n",
      "2012_1_Romney_Republican.txt\n",
      "2016_3_Trump_Republican.txt\n",
      "1992_1_2_Bush_Republican.txt\n",
      "2008_2_Palin_Republican.txt\n"
     ]
    }
   ],
   "source": [
    "all_sentences = []\n",
    "\n",
    "for filename in glob.glob('*.txt'):\n",
    "\n",
    "    with open(filename, 'r') as file:\n",
    "        \n",
    "        print(filename)\n",
    "\n",
    "            #read content of file and store in new variable\n",
    "        data = file.read()\n",
    "            # print(data)\n",
    "\n",
    "        data = data.replace(\"Mr.\", \"Mister\")\n",
    "        data = data.replace(\"Mrs.\", \"Missus\")\n",
    "        data = data.replace(\"Ms.\", \"Miss\")\n",
    "\n",
    "        data = data[:-1]\n",
    "\n",
    "        data = data.lower()\n",
    "\n",
    "        punctuation = ';:\\,$–'\n",
    "\n",
    "        # Removing punctuations in string\n",
    "        # Using loop + punctuation string\n",
    "        for ele in data:\n",
    "            if ele in punctuation:\n",
    "                data = data.replace(ele, \"\")\n",
    "\n",
    "        # split data\n",
    "        words = re.split(\"\\?|\\.|!\", data)\n",
    "\n",
    "        words_no_initial_space = []\n",
    "\n",
    "        for i in words:\n",
    "\n",
    "            if i[0] == ' ':\n",
    "                j = i[1:]\n",
    "                words_no_initial_space += [j]\n",
    "\n",
    "            else:\n",
    "                words_no_initial_space += [i]\n",
    "\n",
    "        for k in words_no_initial_space:\n",
    "\n",
    "            split_sentence = k.split(' ')\n",
    "            all_sentences += [split_sentence]"
   ]
  },
  {
   "cell_type": "code",
   "execution_count": 85,
   "metadata": {},
   "outputs": [
    {
     "data": {
      "text/plain": [
       "[['well', 'thank', 'you', 'jim'], ['and', 'thanks', 'to', 'everybody']]"
      ]
     },
     "execution_count": 85,
     "metadata": {},
     "output_type": "execute_result"
    }
   ],
   "source": [
    "all_sentences[0:2]"
   ]
  },
  {
   "cell_type": "code",
   "execution_count": 86,
   "metadata": {},
   "outputs": [
    {
     "name": "stdout",
     "output_type": "stream",
     "text": [
      "['well', 'thank', 'you', 'jim', 'and', 'thanks', 'to', 'everybody', 'and', 'i']\n"
     ]
    }
   ],
   "source": [
    "words = []\n",
    "\n",
    "for i in all_sentences:\n",
    "    \n",
    "    for j in i:\n",
    "        words += [j]\n",
    "        \n",
    "print(words[0:10])"
   ]
  },
  {
   "cell_type": "code",
   "execution_count": 87,
   "metadata": {},
   "outputs": [
    {
     "name": "stdout",
     "output_type": "stream",
     "text": [
      "279728\n",
      "11228\n"
     ]
    }
   ],
   "source": [
    "print(len(words))\n",
    "print(len(set(words)))"
   ]
  },
  {
   "cell_type": "code",
   "execution_count": 88,
   "metadata": {},
   "outputs": [],
   "source": [
    "republican_model = FastText(all_sentences)"
   ]
  },
  {
   "cell_type": "code",
   "execution_count": 89,
   "metadata": {},
   "outputs": [
    {
     "data": {
      "text/plain": [
       "[5, 6, 0, 7, 2]"
      ]
     },
     "execution_count": 89,
     "metadata": {},
     "output_type": "execute_result"
    }
   ],
   "source": [
    "neg_counts = []\n",
    "\n",
    "for neg_word in negative:\n",
    "    count = words.count(neg_word)\n",
    "    neg_counts.append(count)\n",
    "\n",
    "neg_counts[0:5]"
   ]
  },
  {
   "cell_type": "code",
   "execution_count": 90,
   "metadata": {},
   "outputs": [
    {
     "data": {
      "text/plain": [
       "[0, 1, 66, 9, 2]"
      ]
     },
     "execution_count": 90,
     "metadata": {},
     "output_type": "execute_result"
    }
   ],
   "source": [
    "pos_counts = []\n",
    "\n",
    "for pos_word in positive:\n",
    "    count = words.count(pos_word)\n",
    "    pos_counts.append(count)\n",
    "\n",
    "pos_counts[0:5]"
   ]
  },
  {
   "cell_type": "code",
   "execution_count": 91,
   "metadata": {},
   "outputs": [
    {
     "data": {
      "text/html": [
       "<div>\n",
       "<style scoped>\n",
       "    .dataframe tbody tr th:only-of-type {\n",
       "        vertical-align: middle;\n",
       "    }\n",
       "\n",
       "    .dataframe tbody tr th {\n",
       "        vertical-align: top;\n",
       "    }\n",
       "\n",
       "    .dataframe thead th {\n",
       "        text-align: right;\n",
       "    }\n",
       "</style>\n",
       "<table border=\"1\" class=\"dataframe\">\n",
       "  <thead>\n",
       "    <tr style=\"text-align: right;\">\n",
       "      <th></th>\n",
       "      <th>word</th>\n",
       "      <th>count</th>\n",
       "    </tr>\n",
       "  </thead>\n",
       "  <tbody>\n",
       "    <tr>\n",
       "      <th>21</th>\n",
       "      <td>disaster</td>\n",
       "      <td>47</td>\n",
       "    </tr>\n",
       "    <tr>\n",
       "      <th>17</th>\n",
       "      <td>terrorist</td>\n",
       "      <td>37</td>\n",
       "    </tr>\n",
       "    <tr>\n",
       "      <th>14</th>\n",
       "      <td>poverty</td>\n",
       "      <td>34</td>\n",
       "    </tr>\n",
       "    <tr>\n",
       "      <th>11</th>\n",
       "      <td>death</td>\n",
       "      <td>28</td>\n",
       "    </tr>\n",
       "    <tr>\n",
       "      <th>34</th>\n",
       "      <td>hurt</td>\n",
       "      <td>27</td>\n",
       "    </tr>\n",
       "    <tr>\n",
       "      <th>39</th>\n",
       "      <td>terrible</td>\n",
       "      <td>25</td>\n",
       "    </tr>\n",
       "    <tr>\n",
       "      <th>24</th>\n",
       "      <td>tragedy</td>\n",
       "      <td>19</td>\n",
       "    </tr>\n",
       "    <tr>\n",
       "      <th>43</th>\n",
       "      <td>jail</td>\n",
       "      <td>18</td>\n",
       "    </tr>\n",
       "    <tr>\n",
       "      <th>19</th>\n",
       "      <td>failure</td>\n",
       "      <td>15</td>\n",
       "    </tr>\n",
       "    <tr>\n",
       "      <th>41</th>\n",
       "      <td>dead</td>\n",
       "      <td>14</td>\n",
       "    </tr>\n",
       "  </tbody>\n",
       "</table>\n",
       "</div>"
      ],
      "text/plain": [
       "         word  count\n",
       "21   disaster     47\n",
       "17  terrorist     37\n",
       "14    poverty     34\n",
       "11      death     28\n",
       "34       hurt     27\n",
       "39   terrible     25\n",
       "24    tragedy     19\n",
       "43       jail     18\n",
       "19    failure     15\n",
       "41       dead     14"
      ]
     },
     "execution_count": 91,
     "metadata": {},
     "output_type": "execute_result"
    }
   ],
   "source": [
    "neg_df = pd.DataFrame(\n",
    "    {'word': negative,\n",
    "     'count': neg_counts})\n",
    "neg_df.sort_values('count', ascending=False).head(10)"
   ]
  },
  {
   "cell_type": "code",
   "execution_count": 92,
   "metadata": {},
   "outputs": [
    {
     "data": {
      "text/html": [
       "<div>\n",
       "<style scoped>\n",
       "    .dataframe tbody tr th:only-of-type {\n",
       "        vertical-align: middle;\n",
       "    }\n",
       "\n",
       "    .dataframe tbody tr th {\n",
       "        vertical-align: top;\n",
       "    }\n",
       "\n",
       "    .dataframe thead th {\n",
       "        text-align: right;\n",
       "    }\n",
       "</style>\n",
       "<table border=\"1\" class=\"dataframe\">\n",
       "  <thead>\n",
       "    <tr style=\"text-align: right;\">\n",
       "      <th></th>\n",
       "      <th>word</th>\n",
       "      <th>count</th>\n",
       "    </tr>\n",
       "  </thead>\n",
       "  <tbody>\n",
       "    <tr>\n",
       "      <th>24</th>\n",
       "      <td>free</td>\n",
       "      <td>140</td>\n",
       "    </tr>\n",
       "    <tr>\n",
       "      <th>46</th>\n",
       "      <td>proud</td>\n",
       "      <td>78</td>\n",
       "    </tr>\n",
       "    <tr>\n",
       "      <th>2</th>\n",
       "      <td>love</td>\n",
       "      <td>66</td>\n",
       "    </tr>\n",
       "    <tr>\n",
       "      <th>14</th>\n",
       "      <td>win</td>\n",
       "      <td>66</td>\n",
       "    </tr>\n",
       "    <tr>\n",
       "      <th>12</th>\n",
       "      <td>mother</td>\n",
       "      <td>31</td>\n",
       "    </tr>\n",
       "    <tr>\n",
       "      <th>35</th>\n",
       "      <td>god</td>\n",
       "      <td>30</td>\n",
       "    </tr>\n",
       "    <tr>\n",
       "      <th>29</th>\n",
       "      <td>happy</td>\n",
       "      <td>29</td>\n",
       "    </tr>\n",
       "    <tr>\n",
       "      <th>21</th>\n",
       "      <td>success</td>\n",
       "      <td>20</td>\n",
       "    </tr>\n",
       "    <tr>\n",
       "      <th>18</th>\n",
       "      <td>victory</td>\n",
       "      <td>15</td>\n",
       "    </tr>\n",
       "    <tr>\n",
       "      <th>28</th>\n",
       "      <td>baby</td>\n",
       "      <td>12</td>\n",
       "    </tr>\n",
       "  </tbody>\n",
       "</table>\n",
       "</div>"
      ],
      "text/plain": [
       "       word  count\n",
       "24     free    140\n",
       "46    proud     78\n",
       "2      love     66\n",
       "14      win     66\n",
       "12   mother     31\n",
       "35      god     30\n",
       "29    happy     29\n",
       "21  success     20\n",
       "18  victory     15\n",
       "28     baby     12"
      ]
     },
     "execution_count": 92,
     "metadata": {},
     "output_type": "execute_result"
    }
   ],
   "source": [
    "pos_df = pd.DataFrame(\n",
    "    {'word': positive,\n",
    "     'count': pos_counts})\n",
    "pos_df.sort_values('count', ascending=False).head(10)"
   ]
  },
  {
   "cell_type": "code",
   "execution_count": 94,
   "metadata": {},
   "outputs": [
    {
     "data": {
      "text/plain": [
       "0.9218685"
      ]
     },
     "execution_count": 94,
     "metadata": {},
     "output_type": "execute_result"
    }
   ],
   "source": [
    "import numpy as np\n",
    "democrat_negative = [republican_model.wv.similarity('democrat', 'disaster'),\n",
    "                          republican_model.wv.similarity('democrat', 'terrorist'),\n",
    "                          republican_model.wv.similarity('democrat', 'poverty'),\n",
    "                          republican_model.wv.similarity('democrat', 'death'),\n",
    "                          republican_model.wv.similarity('democrat', 'hurt'),\n",
    "                          republican_model.wv.similarity('democrat', 'terrible'),\n",
    "                          republican_model.wv.similarity('democrat', 'tragedy'),\n",
    "                          republican_model.wv.similarity('democrat', 'jail'),\n",
    "                          republican_model.wv.similarity('democrat', 'failure'),\n",
    "                          republican_model.wv.similarity('democrat', 'dead')]\n",
    "np.mean(democrat_negative)"
   ]
  },
  {
   "cell_type": "code",
   "execution_count": 95,
   "metadata": {},
   "outputs": [
    {
     "data": {
      "text/plain": [
       "0.9405279"
      ]
     },
     "execution_count": 95,
     "metadata": {},
     "output_type": "execute_result"
    }
   ],
   "source": [
    "republican_negative = [republican_model.wv.similarity('republican', 'poverty'),\n",
    "                          republican_model.wv.similarity('republican', 'death'),\n",
    "                          republican_model.wv.similarity('republican', 'failure'),\n",
    "                          republican_model.wv.similarity('republican', 'depression'),\n",
    "                          republican_model.wv.similarity('republican', 'terrorist'),\n",
    "                          republican_model.wv.similarity('republican', 'dead'),\n",
    "                          republican_model.wv.similarity('republican', 'bankrupt'),\n",
    "                          republican_model.wv.similarity('republican', 'terrible'),\n",
    "                          republican_model.wv.similarity('republican', 'hurt'),\n",
    "                          republican_model.wv.similarity('republican', 'sick')]\n",
    "np.mean(republican_negative)"
   ]
  },
  {
   "cell_type": "code",
   "execution_count": 96,
   "metadata": {},
   "outputs": [
    {
     "data": {
      "text/plain": [
       "0.84178954"
      ]
     },
     "execution_count": 96,
     "metadata": {},
     "output_type": "execute_result"
    }
   ],
   "source": [
    "democrat_positive = [republican_model.wv.similarity('democrat', 'free'),\n",
    "                          republican_model.wv.similarity('democrat', 'proud'),\n",
    "                          republican_model.wv.similarity('democrat', 'love'),\n",
    "                          republican_model.wv.similarity('democrat', 'win'),\n",
    "                          republican_model.wv.similarity('democrat', 'mother'),\n",
    "                          republican_model.wv.similarity('democrat', 'god'),\n",
    "                          republican_model.wv.similarity('democrat', 'happy'),\n",
    "                          republican_model.wv.similarity('democrat', 'success'),\n",
    "                          republican_model.wv.similarity('democrat', 'victory'),\n",
    "                          republican_model.wv.similarity('democrat', 'baby')]\n",
    "np.mean(democrat_positive)"
   ]
  },
  {
   "cell_type": "code",
   "execution_count": 97,
   "metadata": {},
   "outputs": [
    {
     "data": {
      "text/plain": [
       "0.89370537"
      ]
     },
     "execution_count": 97,
     "metadata": {},
     "output_type": "execute_result"
    }
   ],
   "source": [
    "republican_positive = [republican_model.wv.similarity('republican', 'free'),\n",
    "                          republican_model.wv.similarity('republican', 'proud'),\n",
    "                          republican_model.wv.similarity('republican', 'love'),\n",
    "                          republican_model.wv.similarity('republican', 'win'),\n",
    "                          republican_model.wv.similarity('republican', 'mother'),\n",
    "                          republican_model.wv.similarity('republican', 'god'),\n",
    "                          republican_model.wv.similarity('republican', 'happy'),\n",
    "                          republican_model.wv.similarity('republican', 'success'),\n",
    "                          republican_model.wv.similarity('republican', 'victory'),\n",
    "                          republican_model.wv.similarity('republican', 'baby')]\n",
    "np.mean(republican_positive)"
   ]
  },
  {
   "cell_type": "code",
   "execution_count": null,
   "metadata": {},
   "outputs": [],
   "source": []
  },
  {
   "cell_type": "code",
   "execution_count": null,
   "metadata": {},
   "outputs": [],
   "source": []
  },
  {
   "cell_type": "code",
   "execution_count": null,
   "metadata": {},
   "outputs": [],
   "source": []
  },
  {
   "cell_type": "code",
   "execution_count": null,
   "metadata": {},
   "outputs": [],
   "source": []
  },
  {
   "cell_type": "code",
   "execution_count": null,
   "metadata": {},
   "outputs": [],
   "source": []
  },
  {
   "cell_type": "code",
   "execution_count": null,
   "metadata": {},
   "outputs": [],
   "source": []
  },
  {
   "cell_type": "code",
   "execution_count": null,
   "metadata": {},
   "outputs": [],
   "source": []
  }
 ],
 "metadata": {
  "kernelspec": {
   "display_name": "Python 3",
   "language": "python",
   "name": "python3"
  },
  "language_info": {
   "codemirror_mode": {
    "name": "ipython",
    "version": 3
   },
   "file_extension": ".py",
   "mimetype": "text/x-python",
   "name": "python",
   "nbconvert_exporter": "python",
   "pygments_lexer": "ipython3",
   "version": "3.8.5"
  }
 },
 "nbformat": 4,
 "nbformat_minor": 4
}
