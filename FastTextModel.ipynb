{
 "cells": [
  {
   "cell_type": "code",
   "execution_count": 4,
   "metadata": {},
   "outputs": [],
   "source": [
    "# import required modules\n",
    "import os\n",
    "import glob\n",
    "import re\n",
    "from gensim.models import Word2Vec\n",
    "from gensim.models.phrases import Phraser, Phrases\n",
    "from gensim.models import FastText"
   ]
  },
  {
   "cell_type": "code",
   "execution_count": 30,
   "metadata": {},
   "outputs": [],
   "source": [
    "# open directory/initialize variables\n",
    "# (used my specific path)\n",
    "os.chdir(\"/Users/nicholasaoki/Desktop/LIN_205A_Project-main/debate_transcripts/Democrat/test\")"
   ]
  },
  {
   "cell_type": "code",
   "execution_count": 31,
   "metadata": {},
   "outputs": [
    {
     "name": "stdout",
     "output_type": "stream",
     "text": [
      "1988_3_Dukakis_Democrat.txt\n",
      "1992_1_1_Clinton_Democrat.txt\n",
      "1988_2_Bentsen_Democrat.txt\n",
      "1976_2_Carter_Democrat.txt\n",
      "1976_3_Carter_Democrat.txt\n",
      "1976_1_Carter_Democrat.txt\n",
      "1984_2_Ferraro_Democrat.txt\n",
      "1960_4_Kennedy_Democrat.txt\n",
      "1980_2_Carter_Democrat.txt\n",
      "1960_1_Kennedy_Democrat.txt\n",
      "1984_3_Mondale_Democrat.txt\n",
      "1960_2 Kennedy_Democrat.txt\n",
      "1988_1_Dukakis_Democrat.txt\n",
      "1992_2_Gore_Democrat.txt\n",
      "1992_1_2_Clinton_Democrat.txt\n",
      "1960_3_Kennedy_Democrat.txt\n",
      "1984_1_Mondale_Democrat.txt\n"
     ]
    }
   ],
   "source": [
    "all_sentences = []\n",
    "\n",
    "for filename in glob.glob('*.txt'):\n",
    "\n",
    "    with open(filename, 'r') as file:\n",
    "        \n",
    "        print(filename)\n",
    "\n",
    "            #read content of file and store in new variable\n",
    "        data = file.read()\n",
    "            # print(data)\n",
    "\n",
    "        data = data.replace(\"Mr.\", \"Mister\")\n",
    "        data = data.replace(\"Mrs.\", \"Missus\")\n",
    "        data = data.replace(\"Ms.\", \"Miss\")\n",
    "\n",
    "        data = data[:-1]\n",
    "\n",
    "        data = data.lower()\n",
    "\n",
    "        punctuation = ';:\\,$–'\n",
    "\n",
    "        # Removing punctuations in string\n",
    "        # Using loop + punctuation string\n",
    "        for ele in data:\n",
    "            if ele in punctuation:\n",
    "                data = data.replace(ele, \"\")\n",
    "\n",
    "        # split data\n",
    "        words = re.split(\"\\?|\\.|!\", data)\n",
    "\n",
    "        words_no_initial_space = []\n",
    "\n",
    "        for i in words:\n",
    "\n",
    "            if i[0] == ' ':\n",
    "                j = i[1:]\n",
    "                words_no_initial_space += [j]\n",
    "\n",
    "            else:\n",
    "                words_no_initial_space += [i]\n",
    "\n",
    "        for k in words_no_initial_space:\n",
    "\n",
    "            split_sentence = k.split(' ')\n",
    "            all_sentences += [split_sentence]"
   ]
  },
  {
   "cell_type": "code",
   "execution_count": 32,
   "metadata": {},
   "outputs": [
    {
     "data": {
      "text/plain": [
       "[['no', 'i', 'don’t', 'bernard'],\n",
       " ['and',\n",
       "  'i',\n",
       "  'think',\n",
       "  'you',\n",
       "  'know',\n",
       "  'that',\n",
       "  'i’ve',\n",
       "  'opposed',\n",
       "  'the',\n",
       "  'death',\n",
       "  'penalty',\n",
       "  'during',\n",
       "  'all',\n",
       "  'of',\n",
       "  'my',\n",
       "  'life']]"
      ]
     },
     "execution_count": 32,
     "metadata": {},
     "output_type": "execute_result"
    }
   ],
   "source": [
    "all_sentences[0:2]"
   ]
  },
  {
   "cell_type": "code",
   "execution_count": 33,
   "metadata": {},
   "outputs": [
    {
     "name": "stdout",
     "output_type": "stream",
     "text": [
      "['no', 'i', 'don’t', 'bernard', 'and', 'i', 'think', 'you', 'know', 'that']\n"
     ]
    }
   ],
   "source": [
    "words = []\n",
    "\n",
    "for i in all_sentences:\n",
    "    \n",
    "    for j in i:\n",
    "        words += [j]\n",
    "        \n",
    "print(words[0:10])"
   ]
  },
  {
   "cell_type": "code",
   "execution_count": 34,
   "metadata": {},
   "outputs": [
    {
     "name": "stdout",
     "output_type": "stream",
     "text": [
      "87740\n",
      "6051\n"
     ]
    }
   ],
   "source": [
    "print(len(words))\n",
    "print(len(set(words)))"
   ]
  },
  {
   "cell_type": "code",
   "execution_count": 35,
   "metadata": {},
   "outputs": [],
   "source": [
    "model = FastText(all_sentences)"
   ]
  },
  {
   "cell_type": "code",
   "execution_count": 36,
   "metadata": {},
   "outputs": [
    {
     "data": {
      "text/plain": [
       "0.99985886"
      ]
     },
     "execution_count": 36,
     "metadata": {},
     "output_type": "execute_result"
    }
   ],
   "source": [
    "model.wv.similarity('democrat', 'amendment')"
   ]
  },
  {
   "cell_type": "code",
   "execution_count": 37,
   "metadata": {},
   "outputs": [
    {
     "data": {
      "text/plain": [
       "[('political', 0.9999867677688599),\n",
       " ('alternative', 0.9999851584434509),\n",
       " ('ability', 0.9999851584434509),\n",
       " ('capability', 0.9999850988388062),\n",
       " ('disability', 0.9999849796295166),\n",
       " ('fundamental', 0.9999843835830688),\n",
       " ('intelligence', 0.9999843835830688),\n",
       " ('environmental', 0.9999842643737793),\n",
       " ('economically', 0.9999842643737793),\n",
       " ('military', 0.9999840259552002)]"
      ]
     },
     "execution_count": 37,
     "metadata": {},
     "output_type": "execute_result"
    }
   ],
   "source": [
    "model.wv.most_similar_cosmul('women')"
   ]
  }
 ],
 "metadata": {
  "kernelspec": {
   "display_name": "Python 3",
   "language": "python",
   "name": "python3"
  },
  "language_info": {
   "codemirror_mode": {
    "name": "ipython",
    "version": 3
   },
   "file_extension": ".py",
   "mimetype": "text/x-python",
   "name": "python",
   "nbconvert_exporter": "python",
   "pygments_lexer": "ipython3",
   "version": "3.8.5"
  }
 },
 "nbformat": 4,
 "nbformat_minor": 4
}
