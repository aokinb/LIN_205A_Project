{
 "cells": [
  {
   "cell_type": "code",
   "execution_count": 13,
   "metadata": {},
   "outputs": [],
   "source": [
    "import os\n",
    "import glob\n",
    "\n",
    "# open directory/initialize variables\n",
    "# (used my specific path)\n",
    "os.chdir(\"/Users/nicholasaoki/Desktop/LIN_205A_Project-main/debate_transcripts\")"
   ]
  },
  {
   "cell_type": "code",
   "execution_count": 23,
   "metadata": {},
   "outputs": [],
   "source": [
    "totalWordCount = 0\n",
    "\n",
    "with open('1960_1.txt', 'r') as file:\n",
    "\n",
    "        #read content of file and store in new variable\n",
    "        data = file.read()\n",
    "        # print(data)\n",
    "\n",
    "        # split data\n",
    "        words = data.split()\n",
    "\n",
    "        # check number of words in file\n",
    "        # print(len(words))\n",
    "\n",
    "        # store word count\n",
    "        wordCount = len(words)\n",
    "\n",
    "        # update total word count\n",
    "        totalWordCount = totalWordCount + wordCount"
   ]
  },
  {
   "cell_type": "code",
   "execution_count": 24,
   "metadata": {},
   "outputs": [
    {
     "data": {
      "text/plain": [
       "10972"
      ]
     },
     "execution_count": 24,
     "metadata": {},
     "output_type": "execute_result"
    }
   ],
   "source": [
    "totalWordCount"
   ]
  },
  {
   "cell_type": "code",
   "execution_count": 25,
   "metadata": {},
   "outputs": [
    {
     "data": {
      "text/plain": [
       "2157"
      ]
     },
     "execution_count": 25,
     "metadata": {},
     "output_type": "execute_result"
    }
   ],
   "source": [
    "len(set(words))"
   ]
  },
  {
   "cell_type": "code",
   "execution_count": 26,
   "metadata": {},
   "outputs": [],
   "source": [
    "totalWordCount = 0\n",
    "\n",
    "with open('1960_1_Kennedy_Democrat.txt', 'r') as file:\n",
    "\n",
    "        #read content of file and store in new variable\n",
    "        data = file.read()\n",
    "        data = data.replace('\\n', '')\n",
    "        data = data.replace('MR. KENNEDY:', '')\n",
    "        data = data[1:]\n",
    "\n",
    "        # split data\n",
    "        words = data.split()\n",
    "\n",
    "        # check number of words in file\n",
    "        # print(len(words))\n",
    "\n",
    "        # store word count\n",
    "        wordCount = len(words)\n",
    "\n",
    "        # update total word count\n",
    "        totalWordCount = totalWordCount + wordCount"
   ]
  },
  {
   "cell_type": "code",
   "execution_count": 27,
   "metadata": {},
   "outputs": [
    {
     "data": {
      "text/plain": [
       "4659"
      ]
     },
     "execution_count": 27,
     "metadata": {},
     "output_type": "execute_result"
    }
   ],
   "source": [
    "totalWordCount"
   ]
  },
  {
   "cell_type": "code",
   "execution_count": 28,
   "metadata": {},
   "outputs": [
    {
     "data": {
      "text/plain": [
       "1198"
      ]
     },
     "execution_count": 28,
     "metadata": {},
     "output_type": "execute_result"
    }
   ],
   "source": [
    "len(set(words))"
   ]
  },
  {
   "cell_type": "code",
   "execution_count": 29,
   "metadata": {},
   "outputs": [],
   "source": [
    "totalWordCount = 0\n",
    "\n",
    "with open('1960_1_Nixon_Republican.txt', 'r') as file:\n",
    "\n",
    "        #read content of file and store in new variable\n",
    "        data = file.read()\n",
    "        data = data.replace('\\n', '')\n",
    "        data = data.replace('MR. NIXON:', '')\n",
    "        data = data[1:]\n",
    "\n",
    "        # split data\n",
    "        words = data.split()\n",
    "\n",
    "        # check number of words in file\n",
    "        # print(len(words))\n",
    "\n",
    "        # store word count\n",
    "        wordCount = len(words)\n",
    "\n",
    "        # update total word count\n",
    "        totalWordCount = totalWordCount + wordCount"
   ]
  },
  {
   "cell_type": "code",
   "execution_count": 31,
   "metadata": {},
   "outputs": [
    {
     "data": {
      "text/plain": [
       "4745"
      ]
     },
     "execution_count": 31,
     "metadata": {},
     "output_type": "execute_result"
    }
   ],
   "source": [
    "totalWordCount"
   ]
  },
  {
   "cell_type": "code",
   "execution_count": 32,
   "metadata": {},
   "outputs": [
    {
     "data": {
      "text/plain": [
       "1160"
      ]
     },
     "execution_count": 32,
     "metadata": {},
     "output_type": "execute_result"
    }
   ],
   "source": [
    "len(set(words))"
   ]
  },
  {
   "cell_type": "code",
   "execution_count": 42,
   "metadata": {},
   "outputs": [],
   "source": [
    "sorted_words = list(set(words))\n",
    "sorted_words = sorted_words.sort()\n",
    "sorted_words"
   ]
  },
  {
   "cell_type": "code",
   "execution_count": 45,
   "metadata": {},
   "outputs": [
    {
     "name": "stdout",
     "output_type": "stream",
     "text": [
      "None\n"
     ]
    }
   ],
   "source": [
    "print(sorted_words)"
   ]
  },
  {
   "cell_type": "code",
   "execution_count": null,
   "metadata": {},
   "outputs": [],
   "source": []
  },
  {
   "cell_type": "code",
   "execution_count": null,
   "metadata": {},
   "outputs": [],
   "source": []
  },
  {
   "cell_type": "code",
   "execution_count": null,
   "metadata": {},
   "outputs": [],
   "source": []
  },
  {
   "cell_type": "code",
   "execution_count": null,
   "metadata": {},
   "outputs": [],
   "source": []
  },
  {
   "cell_type": "code",
   "execution_count": null,
   "metadata": {},
   "outputs": [],
   "source": []
  },
  {
   "cell_type": "code",
   "execution_count": null,
   "metadata": {},
   "outputs": [],
   "source": []
  },
  {
   "cell_type": "code",
   "execution_count": null,
   "metadata": {},
   "outputs": [],
   "source": []
  }
 ],
 "metadata": {
  "kernelspec": {
   "display_name": "Python 3",
   "language": "python",
   "name": "python3"
  },
  "language_info": {
   "codemirror_mode": {
    "name": "ipython",
    "version": 3
   },
   "file_extension": ".py",
   "mimetype": "text/x-python",
   "name": "python",
   "nbconvert_exporter": "python",
   "pygments_lexer": "ipython3",
   "version": "3.8.5"
  }
 },
 "nbformat": 4,
 "nbformat_minor": 4
}
